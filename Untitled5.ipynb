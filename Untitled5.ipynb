{
  "nbformat": 4,
  "nbformat_minor": 0,
  "metadata": {
    "colab": {
      "provenance": []
    },
    "kernelspec": {
      "name": "python3",
      "display_name": "Python 3"
    },
    "language_info": {
      "name": "python"
    }
  },
  "cells": [
    {
      "cell_type": "code",
      "execution_count": null,
      "metadata": {
        "id": "Lz15aVojzZev"
      },
      "outputs": [],
      "source": [
        "import json\n",
        "import random\n",
        "import pickle\n",
        "import numpy as np\n",
        "from sklearn.feature_extraction.text import TfidfVectorizer\n",
        "from sklearn.preprocessing import LabelEncoder\n",
        "from sklearn.ensemble import RandomForestClassifier\n",
        "\n",
        "# Define a tokenizer function\n",
        "def tokenizer(text):\n",
        "    return text.split()\n",
        "\n",
        "# Load JSON data from the specified path\n",
        "file_path = '/content/intents.json'\n",
        "\n",
        "with open(file_path, 'r', encoding='utf-8') as file:\n",
        "    intents = json.load(file)\n",
        "\n",
        "# Prepare data\n",
        "patterns = []\n",
        "tags = []\n",
        "\n",
        "for intent in intents['intents']:\n",
        "    for pattern in intent['patterns']:\n",
        "        patterns.append(pattern)\n",
        "        tags.append(intent['tag'])\n",
        "\n",
        "# Encode tags\n",
        "label_encoder = LabelEncoder()\n",
        "encoded_tags = label_encoder.fit_transform(tags)\n",
        "\n",
        "# Save label encoder for later use\n",
        "pickle.dump(label_encoder, open('label_encoder.pkl', 'wb'))\n",
        "\n",
        "# Calculate TF-IDF\n",
        "tfidf_vectorizer = TfidfVectorizer(tokenizer=tokenizer, stop_words='english')\n",
        "X = tfidf_vectorizer.fit_transform(patterns)\n",
        "\n",
        "# Save TF-IDF vectorizer for later use\n",
        "pickle.dump(tfidf_vectorizer, open('tfidf_vectorizer.pkl', 'wb'))\n",
        "\n",
        "# Train a classifier\n",
        "model = RandomForestClassifier(n_estimators=100, random_state=42)\n",
        "model.fit(X, encoded_tags)\n",
        "\n",
        "# Save the trained model\n",
        "pickle.dump(model, open('chatbot_tfidf_model.pkl', 'wb'))\n",
        "\n",
        "print(\"Training Completed!\")\n"
      ]
    },
    {
      "cell_type": "code",
      "source": [
        "import json\n",
        "import pickle\n",
        "import random  # You missed importing 'random' which is used for selecting random responses\n",
        "import numpy as np\n",
        "from sklearn.feature_extraction.text import TfidfVectorizer\n",
        "from sklearn.ensemble import RandomForestClassifier\n",
        "\n",
        "# Load pre-trained resources\n",
        "label_encoder = pickle.load(open('label_encoder.pkl', 'rb'))\n",
        "tfidf_vectorizer = pickle.load(open('tfidf_vectorizer.pkl', 'rb'))\n",
        "model = pickle.load(open('chatbot_tfidf_model.pkl', 'rb'))\n",
        "\n",
        "# Load JSON data from the specified path\n",
        "file_path = '/content/intents.json'\n",
        "\n",
        "with open(file_path, 'r', encoding='utf-8') as file:\n",
        "    intents = json.load(file)\n",
        "\n",
        "def predict_intent(user_input):\n",
        "    # Transform user input into TF-IDF vector\n",
        "    X = tfidf_vectorizer.transform([user_input])\n",
        "\n",
        "    # Predict tag\n",
        "    predicted_tag_encoded = model.predict(X)[0]\n",
        "    predicted_tag = label_encoder.inverse_transform([predicted_tag_encoded])[0]\n",
        "    return predicted_tag\n",
        "\n",
        "def get_response(tag):\n",
        "    for intent in intents['intents']:\n",
        "        if intent['tag'] == tag:\n",
        "            return random.choice(intent['responses'])\n",
        "\n",
        "print(\"Chatbot is running! Type 'exit', 'quit', or 'bye' to stop the conversation.\")\n",
        "\n",
        "while True:\n",
        "    user_message = input(\"You: \")\n",
        "\n",
        "    # Exit condition\n",
        "    if user_message.lower() in ['exit', 'quit', 'bye']:\n",
        "        print(\"Bot: Goodbye!\")\n",
        "        break  # Exit the loop\n",
        "\n",
        "    # Predict intent and get response\n",
        "    intent = predict_intent(user_message)\n",
        "    response = get_response(intent)\n",
        "    print(\"Bot:\", response)\n"
      ],
      "metadata": {
        "colab": {
          "base_uri": "https://localhost:8080/"
        },
        "id": "_WLYVJ7_2p3x",
        "outputId": "25645a2b-67f1-431f-d140-e95b1de42422"
      },
      "execution_count": 9,
      "outputs": [
        {
          "output_type": "stream",
          "name": "stdout",
          "text": [
            "Chatbot is running! Type 'exit', 'quit', or 'bye' to stop the conversation.\n",
            "You: hello, how r u?\n",
            "Bot: Hello\n",
            "You: thanks\n",
            "Bot: You're Welcome\n",
            "You: what is simplilearn?\n",
            "Bot: Simplilearn is the popular online Bootcamp & online courses learning platform \n",
            "You: exit\n",
            "Bot: Goodbye!\n"
          ]
        }
      ]
    }
  ]
}